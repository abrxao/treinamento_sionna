{
  "cells": [
    {
      "cell_type": "code",
      "execution_count": null,
      "metadata": {
        "colab": {
          "base_uri": "https://localhost:8080/",
          "height": 193
        },
        "id": "iJVsR-wfJQef",
        "outputId": "5a9b26c1-7a0b-411b-c6b3-bee794e567be"
      },
      "outputs": [],
      "source": [
        "import os\n",
        "gpu_num = 0\n",
        "os.environ[\"CUDA_VISIBLE_DEVICES\"] = f\"{gpu_num}\"\n",
        "os.environ['TF_CPP_MIN_LOG_LEVEL'] = '3'\n",
        "#os.environ['DRJIT_LIBLLVM_PATH'] = '/home/usare/.conda/envs/sionnasim/lib/libLLVM-17.so'"
      ]
    },
    {
      "cell_type": "code",
      "execution_count": null,
      "metadata": {
        "id": "b5mFXRHVJQeh"
      },
      "outputs": [],
      "source": [
        "import numpy as np\n",
        "import tensorflow as tf\n",
        "    \n",
        "from sionna.rt import load_scene, Transmitter, Receiver, PlanarArray, Camera\n",
        "from sionna.channel import subcarrier_frequencies, cir_to_ofdm_channel\n",
        "%matplotlib widget\n",
        "import matplotlib.pyplot as plt"
      ]
    },
    {
      "cell_type": "code",
      "execution_count": null,
      "metadata": {
        "id": "Dd79mzkEJQei"
      },
      "outputs": [],
      "source": [
        "scene = load_scene(\"./scenes/scene1.xml\")"
      ]
    },
    {
      "cell_type": "code",
      "execution_count": null,
      "metadata": {
        "colab": {
          "base_uri": "https://localhost:8080/"
        },
        "id": "gWX3PbzzJQej",
        "outputId": "179caeaf-ae15-4ae5-8eeb-508cec06264e"
      },
      "outputs": [],
      "source": [
        "for i, obj in enumerate(scene.objects.values()):\n",
        "    print(f\"{obj.name} : {obj.radio_material.name}\")\n",
        "    if i >= 10:\n",
        "        break"
      ]
    },
    {
      "cell_type": "code",
      "execution_count": null,
      "metadata": {
        "id": "9h8ymfHAJQej"
      },
      "outputs": [],
      "source": [
        "scene.tx_array = PlanarArray(\n",
        "                                num_rows=4,\n",
        "                                num_cols=4,\n",
        "                                vertical_spacing=0.5,\n",
        "                                horizontal_spacing=0.5,\n",
        "                                pattern=\"tr38901\",\n",
        "                                polarization=\"V\"\n",
        "                            )\n",
        "scene.rx_array = PlanarArray(\n",
        "                                num_rows=1,\n",
        "                                num_cols=1,\n",
        "                                vertical_spacing=0.5,\n",
        "                                horizontal_spacing=0.5,\n",
        "                                pattern=\"iso\",\n",
        "                                polarization=\"V\"\n",
        "                )\n",
        "\n",
        "\n",
        "tx = Transmitter(\"tx\", [-262, 192, 65], [0.0, 0.0, 0.0])\n",
        "scene.add(tx)\n",
        "\n",
        "rx = Receiver(\"rx\", [-263, 166, 2], [0.0, 0.0, 0.0])\n",
        "scene.add(rx)\n",
        "\n",
        "rx2 = Receiver(\"rx2\", [-320, 166, 2], [0.0, 0.0, 0.0])\n",
        "scene.add(rx2)"
      ]
    },
    {
      "cell_type": "code",
      "execution_count": null,
      "metadata": {
        "id": "-9lI7eY9JQej"
      },
      "outputs": [],
      "source": [
        "cm = scene.coverage_map()"
      ]
    },
    {
      "cell_type": "code",
      "execution_count": null,
      "metadata": {
        "colab": {
          "base_uri": "https://localhost:8080/",
          "height": 252
        },
        "id": "_kwYdJpAJQek",
        "outputId": "88e6061f-7487-46c1-894a-b0c96432fb18"
      },
      "outputs": [],
      "source": [
        "#scene.preview(coverage_map=cm)"
      ]
    },
    {
      "cell_type": "code",
      "execution_count": null,
      "metadata": {},
      "outputs": [],
      "source": [
        "paths = scene.compute_paths(diffraction=True,\n",
        "                                max_depth=3)\n",
        "scene.preview(paths=paths)"
      ]
    },
    {
      "cell_type": "code",
      "execution_count": null,
      "metadata": {},
      "outputs": [],
      "source": [
        "a, tau = paths.cir()\n",
        "\n",
        "plt.figure()\n",
        "plt.title(\"Channel impulse response\")\n",
        "\n",
        "t = tau[0,0,0,:]\n",
        "a_bs = np.abs(a)[0,0,0,0,0,:,0]\n",
        "plt.stem(t, a_bs)\n",
        "plt.xlim([0, np.max(t)])\n",
        "plt.xlabel(\"tau\")\n",
        "plt.ylabel(\"a\")"
      ]
    },
    {
      "cell_type": "code",
      "execution_count": null,
      "metadata": {},
      "outputs": [],
      "source": [
        "frequencies = subcarrier_frequencies(216*12, 15e3)\n",
        "h_frequency = cir_to_ofdm_channel(frequencies, a, tau)\n",
        "\n",
        "# Transformando em db\n",
        "h_frequency_db = 20*np.log10(tf.abs(h_frequency).numpy())\n",
        "\n",
        "plt.figure()\n",
        "plt.plot(frequencies, h_frequency_db[0,0,0,0,0, 0,:])\n",
        "plt.xlabel('Frequency (Hz)')\n",
        "plt.ylabel('Magnitude (dB)')\n",
        "plt.grid(True)\n",
        "plt.show()"
      ]
    },
    {
      "cell_type": "code",
      "execution_count": null,
      "metadata": {},
      "outputs": [],
      "source": [
        "scene.objects\n",
        "scene.add(Camera(\"cam\", position=[-500,240,45], look_at=[0,50,0], ))\n",
        "car_01 = scene.get(\"car_01\")\n",
        "car_02 = scene.get(\"car_02\")\n",
        "# Put rx and rx1 in the same position as the cars\n",
        "scene.get(\"rx\").position = (car_01.position + [0, 0, 2])\n",
        "scene.get(\"rx2\").position = (car_02.position + [0, 0, 2])\n",
        "# For n steps, move the cars forward (-X)\n",
        "num_steps = 5\n",
        "for i in range(num_steps):\n",
        "    paths = scene.compute_paths(diffraction=True,\n",
        "                                max_depth=3)\n",
        "    scene.render(camera=\"cam\", paths=paths)\n",
        "    car_01.position -= [10, 0, 0]\n",
        "    car_02.position -= [10, 0, 0]\n",
        "    scene.get(\"rx\").position = (car_01.position + [0, 0, 0])\n",
        "    scene.get(\"rx2\").position = (car_02.position + [0, 0, 0])"
      ]
    }
  ],
  "metadata": {
    "colab": {
      "provenance": []
    },
    "kernelspec": {
      "display_name": "sionnasim",
      "language": "python",
      "name": "python3"
    },
    "language_info": {
      "codemirror_mode": {
        "name": "ipython",
        "version": 3
      },
      "file_extension": ".py",
      "mimetype": "text/x-python",
      "name": "python",
      "nbconvert_exporter": "python",
      "pygments_lexer": "ipython3",
      "version": "3.8.19 (default, Mar 20 2024, 19:58:24) \n[GCC 11.2.0]"
    },
    "orig_nbformat": 4,
    "vscode": {
      "interpreter": {
        "hash": "ad6279602125e112656d6b2387c08178a266d79c39b56ca3ffdb73958bcfe64f"
      }
    }
  },
  "nbformat": 4,
  "nbformat_minor": 0
}
